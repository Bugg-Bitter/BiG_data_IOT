{
  "cells": [
    {
      "cell_type": "code",
      "execution_count": 1,
      "metadata": {
        "colab": {
          "base_uri": "https://localhost:8080/"
        },
        "id": "Zsn1g_1-UDVe",
        "outputId": "336eb491-ad2d-440d-a7ed-554ac6725a19"
      },
      "outputs": [
        {
          "output_type": "stream",
          "name": "stdout",
          "text": [
            "\r0% [Working]\r            \rGet:1 https://cloud.r-project.org/bin/linux/ubuntu bionic-cran40/ InRelease [3,626 B]\n",
            "\r0% [Connecting to archive.ubuntu.com] [Connecting to security.ubuntu.com (91.18\r0% [Connecting to archive.ubuntu.com] [Connecting to security.ubuntu.com (91.18\r0% [1 InRelease gpgv 3,626 B] [Connecting to archive.ubuntu.com] [Waiting for h\r                                                                               \rIgn:2 https://developer.download.nvidia.com/compute/machine-learning/repos/ubuntu1804/x86_64  InRelease\n",
            "\r0% [1 InRelease gpgv 3,626 B] [Connecting to archive.ubuntu.com (91.189.91.38)]\r                                                                               \rHit:3 https://developer.download.nvidia.com/compute/cuda/repos/ubuntu1804/x86_64  InRelease\n",
            "\r0% [1 InRelease gpgv 3,626 B] [Connecting to archive.ubuntu.com (91.189.91.38)]\r                                                                               \rHit:4 https://developer.download.nvidia.com/compute/machine-learning/repos/ubuntu1804/x86_64  Release\n",
            "Get:5 http://security.ubuntu.com/ubuntu bionic-security InRelease [88.7 kB]\n",
            "Hit:6 http://archive.ubuntu.com/ubuntu bionic InRelease\n",
            "Get:7 http://archive.ubuntu.com/ubuntu bionic-updates InRelease [88.7 kB]\n",
            "Hit:8 http://ppa.launchpad.net/c2d4u.team/c2d4u4.0+/ubuntu bionic InRelease\n",
            "Get:10 http://archive.ubuntu.com/ubuntu bionic-backports InRelease [74.6 kB]\n",
            "Hit:11 http://ppa.launchpad.net/cran/libgit2/ubuntu bionic InRelease\n",
            "Hit:12 http://ppa.launchpad.net/deadsnakes/ppa/ubuntu bionic InRelease\n",
            "Get:13 http://security.ubuntu.com/ubuntu bionic-security/main amd64 Packages [2,965 kB]\n",
            "Get:14 http://archive.ubuntu.com/ubuntu bionic-updates/universe amd64 Packages [2,318 kB]\n",
            "Hit:15 http://ppa.launchpad.net/graphics-drivers/ppa/ubuntu bionic InRelease\n",
            "Get:16 http://security.ubuntu.com/ubuntu bionic-security/universe amd64 Packages [1,540 kB]\n",
            "Get:17 http://archive.ubuntu.com/ubuntu bionic-updates/main amd64 Packages [3,397 kB]\n",
            "Fetched 10.5 MB in 2s (5,160 kB/s)\n",
            "Reading package lists... Done\n"
          ]
        }
      ],
      "source": [
        "!apt-get update\n",
        "!apt-get install openjdk-8-jdk-headless -qq > /dev/null\n",
        "!wget -q http://archive.apache.org/dist/spark/spark-3.1.1/spark-3.1.1-bin-hadoop3.2.tgz\n",
        "!tar xf spark-3.1.1-bin-hadoop3.2.tgz\n",
        "!pip install -q findspark"
      ]
    },
    {
      "cell_type": "code",
      "execution_count": 2,
      "metadata": {
        "id": "019d-C8TU3QS"
      },
      "outputs": [],
      "source": [
        "import os\n",
        "os.environ[\"JAVA_HOME\"] = \"/usr/lib/jvm/java-8-openjdk-amd64\"\n",
        "os.environ[\"SPARK_HOME\"] = \"/content/spark-3.1.1-bin-hadoop3.2\""
      ]
    },
    {
      "cell_type": "code",
      "execution_count": 3,
      "metadata": {
        "colab": {
          "base_uri": "https://localhost:8080/",
          "height": 216
        },
        "id": "UziJvs6QU6xO",
        "outputId": "dd9a70d1-9ec9-48bd-aae5-e14a4584d118"
      },
      "outputs": [
        {
          "output_type": "execute_result",
          "data": {
            "text/plain": [
              "<pyspark.sql.session.SparkSession at 0x7f21363daf50>"
            ],
            "text/html": [
              "\n",
              "            <div>\n",
              "                <p><b>SparkSession - in-memory</b></p>\n",
              "                \n",
              "        <div>\n",
              "            <p><b>SparkContext</b></p>\n",
              "\n",
              "            <p><a href=\"http://1939b058b354:4040\">Spark UI</a></p>\n",
              "\n",
              "            <dl>\n",
              "              <dt>Version</dt>\n",
              "                <dd><code>v3.1.1</code></dd>\n",
              "              <dt>Master</dt>\n",
              "                <dd><code>local[1]</code></dd>\n",
              "              <dt>AppName</dt>\n",
              "                <dd><code>RDD</code></dd>\n",
              "            </dl>\n",
              "        </div>\n",
              "        \n",
              "            </div>\n",
              "        "
            ]
          },
          "metadata": {},
          "execution_count": 3
        }
      ],
      "source": [
        "import findspark\n",
        "findspark.init()\n",
        "from pyspark.sql import SparkSession\n",
        "spark = SparkSession.builder.master(\"local[1]\").appName(\"RDD\").getOrCreate()\n",
        "spark"
      ]
    },
    {
      "cell_type": "code",
      "execution_count": 4,
      "metadata": {
        "id": "rIuy0cMzVbAo",
        "colab": {
          "base_uri": "https://localhost:8080/"
        },
        "outputId": "27c9a3b5-3626-471d-d7cc-fdbbd0d1ebe3"
      },
      "outputs": [
        {
          "output_type": "stream",
          "name": "stdout",
          "text": [
            "--2022-09-16 16:45:31--  https://raw.githubusercontent.com/Bugg-Bitter/BiG_data_IOT/main/Lab%20-%204/evan.txt\n",
            "Resolving raw.githubusercontent.com (raw.githubusercontent.com)... 185.199.108.133, 185.199.109.133, 185.199.110.133, ...\n",
            "Connecting to raw.githubusercontent.com (raw.githubusercontent.com)|185.199.108.133|:443... connected.\n",
            "HTTP request sent, awaiting response... 200 OK\n",
            "Length: 2144 (2.1K) [text/plain]\n",
            "Saving to: ‘evan.txt’\n",
            "\n",
            "evan.txt            100%[===================>]   2.09K  --.-KB/s    in 0s      \n",
            "\n",
            "2022-09-16 16:45:31 (39.0 MB/s) - ‘evan.txt’ saved [2144/2144]\n",
            "\n"
          ]
        }
      ],
      "source": [
        "!wget https://raw.githubusercontent.com/Bugg-Bitter/BiG_data_IOT/main/Lab%20-%204/evan.txt\n"
      ]
    },
    {
      "cell_type": "code",
      "source": [
        "saved = spark.sparkContext.textFile(\"/content/evan.txt\")\n",
        "saved.collect()"
      ],
      "metadata": {
        "id": "3jcSQU6PWsbj",
        "colab": {
          "base_uri": "https://localhost:8080/"
        },
        "outputId": "1436dfec-f318-49d0-c4bb-b90e44c4405d"
      },
      "execution_count": 5,
      "outputs": [
        {
          "output_type": "execute_result",
          "data": {
            "text/plain": [
              "['Contrary to popular belief, Lorem Ipsum is not simply random text. It has roots in a piece of ',\n",
              " 'classical Latin literature from 45 BC, making it over 2000 years old. Richard McClintock, a ',\n",
              " 'Latin professor at Hampden-Sydney College in Virginia, looked up one of the more obscure Latin ',\n",
              " 'words, consectetur, from a Lorem Ipsum passage, and going through the cites of the word in ',\n",
              " 'classical literature, discovered the undoubtable source. Lorem Ipsum comes from sections ',\n",
              " '1.10.32 and 1.10.33 of \"de Finibus Bonorum et Malorum\" (The Extremes of Good and Evil) by ',\n",
              " 'Cicero, written in 45 BC. This book is a treatise on the theory of ethics, very popular during ',\n",
              " 'the Renaissance. The first line of Lorem Ipsum, \"Lorem ipsum dolor sit amet..\", comes from a ',\n",
              " 'line in section 1.10.32.',\n",
              " '',\n",
              " 'The standard chunk of Lorem Ipsum used since the 1500s is reproduced below for those ',\n",
              " 'interested. Sections 1.10.32 and 1.10.33 from \"de Finibus Bonorum et Malorum\" by Cicero are ',\n",
              " 'also reproduced in their exact original form, accompanied by English versions from the 1914 ',\n",
              " 'translation by H. Rackham.',\n",
              " 'Contrary to popular belief, Lorem Ipsum is not simply random text. It has roots in a piece of ',\n",
              " 'classical Latin literature from 45 BC, making it over 2000 years old. Richard McClintock, a ',\n",
              " 'Latin professor at Hampden-Sydney College in Virginia, looked up one of the more obscure Latin ',\n",
              " 'words, consectetur, from a Lorem Ipsum passage, and going through the cites of the word in ',\n",
              " 'classical literature, discovered the undoubtable source. Lorem Ipsum comes from sections ',\n",
              " '1.10.32 and 1.10.33 of \"de Finibus Bonorum et Malorum\" (The Extremes of Good and Evil) by ',\n",
              " 'Cicero, written in 45 BC. This book is a treatise on the theory of ethics, very popular during ',\n",
              " 'the Renaissance. The first line of Lorem Ipsum, \"Lorem ipsum dolor sit amet..\", comes from a ',\n",
              " 'line in section 1.10.32.',\n",
              " '',\n",
              " 'The standard chunk of Lorem Ipsum used since the 1500s is reproduced below for those ',\n",
              " 'interested. Sections 1.10.32 and 1.10.33 from \"de Finibus Bonorum et Malorum\" by Cicero are ',\n",
              " 'also reproduced in their exact original form, accompanied by English versions from the 1914 ',\n",
              " 'translation by H. Rackham.']"
            ]
          },
          "metadata": {},
          "execution_count": 5
        }
      ]
    },
    {
      "cell_type": "code",
      "source": [
        "splits = saved.flatMap(lambda x: x.split(\" \"))\n",
        "splits.take(24)"
      ],
      "metadata": {
        "colab": {
          "base_uri": "https://localhost:8080/"
        },
        "id": "fEybjhlZKIU8",
        "outputId": "2f63dead-bdbb-4bf3-95f6-3ad0c569349d"
      },
      "execution_count": 6,
      "outputs": [
        {
          "output_type": "execute_result",
          "data": {
            "text/plain": [
              "['Contrary',\n",
              " 'to',\n",
              " 'popular',\n",
              " 'belief,',\n",
              " 'Lorem',\n",
              " 'Ipsum',\n",
              " 'is',\n",
              " 'not',\n",
              " 'simply',\n",
              " 'random',\n",
              " 'text.',\n",
              " 'It',\n",
              " 'has',\n",
              " 'roots',\n",
              " 'in',\n",
              " 'a',\n",
              " 'piece',\n",
              " 'of',\n",
              " '',\n",
              " 'classical',\n",
              " 'Latin',\n",
              " 'literature',\n",
              " 'from',\n",
              " '45']"
            ]
          },
          "metadata": {},
          "execution_count": 6
        }
      ]
    },
    {
      "cell_type": "code",
      "source": [
        "pairs = splits.map(lambda x: (x,3))\n",
        "pairs.take(8)"
      ],
      "metadata": {
        "id": "gKrplf-AW1jA",
        "colab": {
          "base_uri": "https://localhost:8080/"
        },
        "outputId": "5f047005-4e65-4a70-b120-e48ce904d6d7"
      },
      "execution_count": 7,
      "outputs": [
        {
          "output_type": "execute_result",
          "data": {
            "text/plain": [
              "[('Contrary', 3),\n",
              " ('to', 3),\n",
              " ('popular', 3),\n",
              " ('belief,', 3),\n",
              " ('Lorem', 3),\n",
              " ('Ipsum', 3),\n",
              " ('is', 3),\n",
              " ('not', 3)]"
            ]
          },
          "metadata": {},
          "execution_count": 7
        }
      ]
    },
    {
      "cell_type": "code",
      "source": [
        "rdByKey = pairs.reduceByKey(lambda a,b:a*b)\n",
        "rdByKey.take(8)"
      ],
      "metadata": {
        "colab": {
          "base_uri": "https://localhost:8080/"
        },
        "id": "RbyIteP1KS1j",
        "outputId": "60d7e4e8-ca0b-48f2-9f16-b46d512972c0"
      },
      "execution_count": 8,
      "outputs": [
        {
          "output_type": "execute_result",
          "data": {
            "text/plain": [
              "[('Contrary', 9),\n",
              " ('to', 9),\n",
              " ('popular', 81),\n",
              " ('belief,', 9),\n",
              " ('Lorem', 59049),\n",
              " ('Ipsum', 6561),\n",
              " ('is', 729),\n",
              " ('not', 9)]"
            ]
          },
          "metadata": {},
          "execution_count": 8
        }
      ]
    },
    {
      "cell_type": "code",
      "source": [
        "sorted = rdByKey.map(lambda x: (x[0], x[1])).sortByKey()\n",
        "sorted.take(8)"
      ],
      "metadata": {
        "colab": {
          "base_uri": "https://localhost:8080/"
        },
        "id": "rydh83KyKWCC",
        "outputId": "c6c50372-446a-4b01-81c0-26bbff0ce17a"
      },
      "execution_count": 9,
      "outputs": [
        {
          "output_type": "execute_result",
          "data": {
            "text/plain": [
              "[('', 282429536481),\n",
              " ('\"Lorem', 9),\n",
              " ('\"de', 81),\n",
              " ('(The', 9),\n",
              " ('1.10.32', 81),\n",
              " ('1.10.32.', 9),\n",
              " ('1.10.33', 81),\n",
              " ('1500s', 9)]"
            ]
          },
          "metadata": {},
          "execution_count": 9
        }
      ]
    },
    {
      "cell_type": "code",
      "source": [
        "#id: 193-15-2948\n",
        "totalPartitions = sorted.repartition(8) \n",
        "print(\"Number of Partitions: \"+ str(totalPartitions.getNumPartitions()))"
      ],
      "metadata": {
        "colab": {
          "base_uri": "https://localhost:8080/"
        },
        "id": "790YMVKJKcVC",
        "outputId": "f3476623-21da-4a70-dc1e-230a1a4d6998"
      },
      "execution_count": 10,
      "outputs": [
        {
          "output_type": "stream",
          "name": "stdout",
          "text": [
            "Number of Partitions: 8\n"
          ]
        }
      ]
    },
    {
      "cell_type": "code",
      "source": [
        "totalPartitions.saveAsTextFile(\"/content/saved\")"
      ],
      "metadata": {
        "id": "_-D7wG-RW4g7"
      },
      "execution_count": 13,
      "outputs": []
    }
  ],
  "metadata": {
    "colab": {
      "provenance": [],
      "collapsed_sections": []
    },
    "kernelspec": {
      "display_name": "Python 3",
      "name": "python3"
    },
    "language_info": {
      "name": "python"
    }
  },
  "nbformat": 4,
  "nbformat_minor": 0
}