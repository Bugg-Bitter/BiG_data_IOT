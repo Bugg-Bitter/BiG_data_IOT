{
  "cells": [
    {
      "cell_type": "code",
      "execution_count": 67,
      "metadata": {
        "colab": {
          "base_uri": "https://localhost:8080/"
        },
        "id": "Zsn1g_1-UDVe",
        "outputId": "155dc87e-ed82-4628-b12c-4357fceab04b"
      },
      "outputs": [
        {
          "output_type": "stream",
          "name": "stdout",
          "text": [
            "\r0% [Working]\r            \rHit:1 http://security.ubuntu.com/ubuntu bionic-security InRelease\n",
            "Hit:2 https://cloud.r-project.org/bin/linux/ubuntu bionic-cran40/ InRelease\n",
            "Ign:3 https://developer.download.nvidia.com/compute/machine-learning/repos/ubuntu1804/x86_64  InRelease\n",
            "Hit:4 https://developer.download.nvidia.com/compute/cuda/repos/ubuntu1804/x86_64  InRelease\n",
            "Hit:5 https://developer.download.nvidia.com/compute/machine-learning/repos/ubuntu1804/x86_64  Release\n",
            "Hit:6 http://archive.ubuntu.com/ubuntu bionic InRelease\n",
            "Hit:7 http://ppa.launchpad.net/c2d4u.team/c2d4u4.0+/ubuntu bionic InRelease\n",
            "Hit:8 http://archive.ubuntu.com/ubuntu bionic-updates InRelease\n",
            "Hit:9 http://archive.ubuntu.com/ubuntu bionic-backports InRelease\n",
            "Hit:10 http://ppa.launchpad.net/cran/libgit2/ubuntu bionic InRelease\n",
            "Hit:11 http://ppa.launchpad.net/deadsnakes/ppa/ubuntu bionic InRelease\n",
            "Hit:12 http://ppa.launchpad.net/graphics-drivers/ppa/ubuntu bionic InRelease\n",
            "Reading package lists... Done\n"
          ]
        }
      ],
      "source": [
        "!apt-get update\n",
        "!apt-get install openjdk-8-jdk-headless -qq > /dev/null\n",
        "!wget -q http://archive.apache.org/dist/spark/spark-3.1.1/spark-3.1.1-bin-hadoop3.2.tgz\n",
        "!tar xf spark-3.1.1-bin-hadoop3.2.tgz\n",
        "!pip install -q findspark"
      ]
    },
    {
      "cell_type": "code",
      "execution_count": 68,
      "metadata": {
        "id": "019d-C8TU3QS"
      },
      "outputs": [],
      "source": [
        "import os\n",
        "os.environ[\"JAVA_HOME\"] = \"/usr/lib/jvm/java-8-openjdk-amd64\"\n",
        "os.environ[\"SPARK_HOME\"] = \"/content/spark-3.1.1-bin-hadoop3.2\""
      ]
    },
    {
      "cell_type": "code",
      "execution_count": 69,
      "metadata": {
        "colab": {
          "base_uri": "https://localhost:8080/",
          "height": 219
        },
        "id": "UziJvs6QU6xO",
        "outputId": "9755a244-85f3-42e5-962c-bc6ecbc565bd"
      },
      "outputs": [
        {
          "output_type": "execute_result",
          "data": {
            "text/plain": [
              "<pyspark.sql.session.SparkSession at 0x7f7d60e67390>"
            ],
            "text/html": [
              "\n",
              "            <div>\n",
              "                <p><b>SparkSession - in-memory</b></p>\n",
              "                \n",
              "        <div>\n",
              "            <p><b>SparkContext</b></p>\n",
              "\n",
              "            <p><a href=\"http://47c11f32c776:4040\">Spark UI</a></p>\n",
              "\n",
              "            <dl>\n",
              "              <dt>Version</dt>\n",
              "                <dd><code>v3.1.1</code></dd>\n",
              "              <dt>Master</dt>\n",
              "                <dd><code>local[1]</code></dd>\n",
              "              <dt>AppName</dt>\n",
              "                <dd><code>RDD</code></dd>\n",
              "            </dl>\n",
              "        </div>\n",
              "        \n",
              "            </div>\n",
              "        "
            ]
          },
          "metadata": {},
          "execution_count": 69
        }
      ],
      "source": [
        "import findspark\n",
        "findspark.init()\n",
        "from pyspark.sql import SparkSession\n",
        "spark = SparkSession.builder.master(\"local[1]\").appName(\"RDD\").getOrCreate()\n",
        "spark"
      ]
    },
    {
      "cell_type": "code",
      "execution_count": 70,
      "metadata": {
        "id": "rIuy0cMzVbAo",
        "colab": {
          "base_uri": "https://localhost:8080/"
        },
        "outputId": "86fa390f-519d-4873-bfd3-10b2b078f64c"
      },
      "outputs": [
        {
          "output_type": "stream",
          "name": "stdout",
          "text": [
            "--2022-09-15 17:27:42--  https://raw.githubusercontent.com/Bugg-Bitter/BiG_data_IOT/main/Lab%20-%204/evan.txt\n",
            "Resolving raw.githubusercontent.com (raw.githubusercontent.com)... 185.199.108.133, 185.199.111.133, 185.199.109.133, ...\n",
            "Connecting to raw.githubusercontent.com (raw.githubusercontent.com)|185.199.108.133|:443... connected.\n",
            "HTTP request sent, awaiting response... 200 OK\n",
            "Length: 2144 (2.1K) [text/plain]\n",
            "Saving to: ‘evan.txt.1’\n",
            "\n",
            "\revan.txt.1            0%[                    ]       0  --.-KB/s               \revan.txt.1          100%[===================>]   2.09K  --.-KB/s    in 0s      \n",
            "\n",
            "2022-09-15 17:27:43 (14.7 MB/s) - ‘evan.txt.1’ saved [2144/2144]\n",
            "\n"
          ]
        }
      ],
      "source": [
        "!wget https://raw.githubusercontent.com/Bugg-Bitter/BiG_data_IOT/main/Lab%20-%204/evan.txt\n"
      ]
    },
    {
      "cell_type": "code",
      "source": [
        "saved = spark.sparkContext.textFile(\"/content/evan.txt\")\n",
        "saved.collect()"
      ],
      "metadata": {
        "id": "3jcSQU6PWsbj",
        "colab": {
          "base_uri": "https://localhost:8080/"
        },
        "outputId": "3de2f783-81d2-4936-f896-d4863a0889ed"
      },
      "execution_count": 71,
      "outputs": [
        {
          "output_type": "execute_result",
          "data": {
            "text/plain": [
              "['Contrary to popular belief, Lorem Ipsum is not simply random text. It has roots in a piece of ',\n",
              " 'classical Latin literature from 45 BC, making it over 2000 years old. Richard McClintock, a ',\n",
              " 'Latin professor at Hampden-Sydney College in Virginia, looked up one of the more obscure Latin ',\n",
              " 'words, consectetur, from a Lorem Ipsum passage, and going through the cites of the word in ',\n",
              " 'classical literature, discovered the undoubtable source. Lorem Ipsum comes from sections ',\n",
              " '1.10.32 and 1.10.33 of \"de Finibus Bonorum et Malorum\" (The Extremes of Good and Evil) by ',\n",
              " 'Cicero, written in 45 BC. This book is a treatise on the theory of ethics, very popular during ',\n",
              " 'the Renaissance. The first line of Lorem Ipsum, \"Lorem ipsum dolor sit amet..\", comes from a ',\n",
              " 'line in section 1.10.32.',\n",
              " '',\n",
              " 'The standard chunk of Lorem Ipsum used since the 1500s is reproduced below for those ',\n",
              " 'interested. Sections 1.10.32 and 1.10.33 from \"de Finibus Bonorum et Malorum\" by Cicero are ',\n",
              " 'also reproduced in their exact original form, accompanied by English versions from the 1914 ',\n",
              " 'translation by H. Rackham.',\n",
              " 'Contrary to popular belief, Lorem Ipsum is not simply random text. It has roots in a piece of ',\n",
              " 'classical Latin literature from 45 BC, making it over 2000 years old. Richard McClintock, a ',\n",
              " 'Latin professor at Hampden-Sydney College in Virginia, looked up one of the more obscure Latin ',\n",
              " 'words, consectetur, from a Lorem Ipsum passage, and going through the cites of the word in ',\n",
              " 'classical literature, discovered the undoubtable source. Lorem Ipsum comes from sections ',\n",
              " '1.10.32 and 1.10.33 of \"de Finibus Bonorum et Malorum\" (The Extremes of Good and Evil) by ',\n",
              " 'Cicero, written in 45 BC. This book is a treatise on the theory of ethics, very popular during ',\n",
              " 'the Renaissance. The first line of Lorem Ipsum, \"Lorem ipsum dolor sit amet..\", comes from a ',\n",
              " 'line in section 1.10.32.',\n",
              " '',\n",
              " 'The standard chunk of Lorem Ipsum used since the 1500s is reproduced below for those ',\n",
              " 'interested. Sections 1.10.32 and 1.10.33 from \"de Finibus Bonorum et Malorum\" by Cicero are ',\n",
              " 'also reproduced in their exact original form, accompanied by English versions from the 1914 ',\n",
              " 'translation by H. Rackham.']"
            ]
          },
          "metadata": {},
          "execution_count": 71
        }
      ]
    },
    {
      "cell_type": "code",
      "source": [
        "splits = saved.flatMap(lambda x: x.split(\" \"))\n",
        "splits.take(24)"
      ],
      "metadata": {
        "colab": {
          "base_uri": "https://localhost:8080/"
        },
        "id": "fEybjhlZKIU8",
        "outputId": "93639472-6b4e-4c8e-d6fe-730e435c403a"
      },
      "execution_count": 72,
      "outputs": [
        {
          "output_type": "execute_result",
          "data": {
            "text/plain": [
              "['Contrary',\n",
              " 'to',\n",
              " 'popular',\n",
              " 'belief,',\n",
              " 'Lorem',\n",
              " 'Ipsum',\n",
              " 'is',\n",
              " 'not',\n",
              " 'simply',\n",
              " 'random',\n",
              " 'text.',\n",
              " 'It',\n",
              " 'has',\n",
              " 'roots',\n",
              " 'in',\n",
              " 'a',\n",
              " 'piece',\n",
              " 'of',\n",
              " '',\n",
              " 'classical',\n",
              " 'Latin',\n",
              " 'literature',\n",
              " 'from',\n",
              " '45']"
            ]
          },
          "metadata": {},
          "execution_count": 72
        }
      ]
    },
    {
      "cell_type": "code",
      "source": [
        "pairs = splits.map(lambda x: (x,1))\n",
        "pairs.take(8)"
      ],
      "metadata": {
        "id": "gKrplf-AW1jA",
        "colab": {
          "base_uri": "https://localhost:8080/"
        },
        "outputId": "ab312cf0-9db6-45d4-93f2-817f87e97dce"
      },
      "execution_count": 73,
      "outputs": [
        {
          "output_type": "execute_result",
          "data": {
            "text/plain": [
              "[('Contrary', 1),\n",
              " ('to', 1),\n",
              " ('popular', 1),\n",
              " ('belief,', 1),\n",
              " ('Lorem', 1),\n",
              " ('Ipsum', 1),\n",
              " ('is', 1),\n",
              " ('not', 1)]"
            ]
          },
          "metadata": {},
          "execution_count": 73
        }
      ]
    },
    {
      "cell_type": "code",
      "source": [
        "rdByKey = pairs.reduceByKey(lambda a,b:a+b)\n",
        "rdByKey.take(8)"
      ],
      "metadata": {
        "colab": {
          "base_uri": "https://localhost:8080/"
        },
        "id": "RbyIteP1KS1j",
        "outputId": "73cac724-98da-4f01-c832-d541398b142a"
      },
      "execution_count": 74,
      "outputs": [
        {
          "output_type": "execute_result",
          "data": {
            "text/plain": [
              "[('Contrary', 2),\n",
              " ('to', 2),\n",
              " ('popular', 4),\n",
              " ('belief,', 2),\n",
              " ('Lorem', 10),\n",
              " ('Ipsum', 8),\n",
              " ('is', 6),\n",
              " ('not', 2)]"
            ]
          },
          "metadata": {},
          "execution_count": 74
        }
      ]
    },
    {
      "cell_type": "code",
      "source": [
        "sorted = rdByKey.map(lambda x: (x[0], x[1])).sortByKey()\n",
        "sorted.take(8)"
      ],
      "metadata": {
        "colab": {
          "base_uri": "https://localhost:8080/"
        },
        "id": "rydh83KyKWCC",
        "outputId": "d84a5789-8ed6-410d-e0c5-5e65c1d0425c"
      },
      "execution_count": 75,
      "outputs": [
        {
          "output_type": "execute_result",
          "data": {
            "text/plain": [
              "[('', 24),\n",
              " ('\"Lorem', 2),\n",
              " ('\"de', 4),\n",
              " ('(The', 2),\n",
              " ('1.10.32', 4),\n",
              " ('1.10.32.', 2),\n",
              " ('1.10.33', 4),\n",
              " ('1500s', 2)]"
            ]
          },
          "metadata": {},
          "execution_count": 75
        }
      ]
    },
    {
      "cell_type": "code",
      "source": [
        "#id: 193-15-2948\n",
        "totalPartitions = sorted.repartition(8) \n",
        "print(\"Number of Partitions: \"+ str(totalPartitions.getNumPartitions()))"
      ],
      "metadata": {
        "colab": {
          "base_uri": "https://localhost:8080/"
        },
        "id": "790YMVKJKcVC",
        "outputId": "1c644e28-811b-4dec-d31e-7eb059f93845"
      },
      "execution_count": 76,
      "outputs": [
        {
          "output_type": "stream",
          "name": "stdout",
          "text": [
            "Number of Partitions: 8\n"
          ]
        }
      ]
    },
    {
      "cell_type": "code",
      "source": [
        "rdd6.saveAsTextFile(\"/content/savedResult\")"
      ],
      "metadata": {
        "id": "_-D7wG-RW4g7"
      },
      "execution_count": 77,
      "outputs": []
    }
  ],
  "metadata": {
    "colab": {
      "provenance": [],
      "collapsed_sections": []
    },
    "kernelspec": {
      "display_name": "Python 3",
      "name": "python3"
    },
    "language_info": {
      "name": "python"
    }
  },
  "nbformat": 4,
  "nbformat_minor": 0
}