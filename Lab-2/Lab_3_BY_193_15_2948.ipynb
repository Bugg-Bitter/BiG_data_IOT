{
  "nbformat": 4,
  "nbformat_minor": 0,
  "metadata": {
    "colab": {
      "provenance": []
    },
    "kernelspec": {
      "name": "python3",
      "display_name": "Python 3"
    },
    "language_info": {
      "name": "python"
    }
  },
  "cells": [
    {
      "cell_type": "code",
      "execution_count": 44,
      "metadata": {
        "colab": {
          "base_uri": "https://localhost:8080/"
        },
        "id": "h4pFc93Gdt9o",
        "outputId": "444dcffe-a674-49d4-e60b-466db41edfef"
      },
      "outputs": [
        {
          "output_type": "stream",
          "name": "stdout",
          "text": [
            "\r0% [Working]\r            \rHit:1 https://cloud.r-project.org/bin/linux/ubuntu bionic-cran40/ InRelease\n",
            "\r0% [Connecting to archive.ubuntu.com (91.189.91.39)] [Connecting to security.ub\r0% [1 InRelease gpgv 3,626 B] [Connecting to archive.ubuntu.com (91.189.91.39)]\r                                                                               \rIgn:2 https://developer.download.nvidia.com/compute/machine-learning/repos/ubuntu1804/x86_64  InRelease\n",
            "\r0% [1 InRelease gpgv 3,626 B] [Waiting for headers] [Connecting to security.ubu\r                                                                               \rHit:3 https://developer.download.nvidia.com/compute/cuda/repos/ubuntu1804/x86_64  InRelease\n",
            "\r0% [1 InRelease gpgv 3,626 B] [Waiting for headers] [Connecting to security.ubu\r                                                                               \rHit:4 http://archive.ubuntu.com/ubuntu bionic InRelease\n",
            "\r0% [1 InRelease gpgv 3,626 B] [Waiting for headers] [Connecting to security.ubu\r                                                                               \rHit:5 https://developer.download.nvidia.com/compute/machine-learning/repos/ubuntu1804/x86_64  Release\n",
            "Get:6 http://archive.ubuntu.com/ubuntu bionic-updates InRelease [88.7 kB]\n",
            "Get:7 http://security.ubuntu.com/ubuntu bionic-security InRelease [88.7 kB]\n",
            "Hit:8 http://ppa.launchpad.net/c2d4u.team/c2d4u4.0+/ubuntu bionic InRelease\n",
            "Get:9 http://archive.ubuntu.com/ubuntu bionic-backports InRelease [74.6 kB]\n",
            "Hit:10 http://ppa.launchpad.net/cran/libgit2/ubuntu bionic InRelease\n",
            "Hit:11 http://ppa.launchpad.net/deadsnakes/ppa/ubuntu bionic InRelease\n",
            "Hit:13 http://ppa.launchpad.net/graphics-drivers/ppa/ubuntu bionic InRelease\n",
            "Fetched 252 kB in 3s (92.8 kB/s)\n",
            "Reading package lists... Done\n"
          ]
        }
      ],
      "source": [
        "!apt-get update\n",
        "!apt-get install openjdk-8-jdk-headless -qq > /dev/null\n",
        "!wget -q http://archive.apache.org/dist/spark/spark-3.1.1/spark-3.1.1-bin-hadoop3.2.tgz\n",
        "!tar xf spark-3.1.1-bin-hadoop3.2.tgz\n",
        "!pip install -q findspark"
      ]
    },
    {
      "cell_type": "code",
      "source": [
        "import os\n",
        "os.environ[\"JAVA_HOME\"] = \"/usr/lib/jvm/java-8-openjdk-amd64\"\n",
        "os.environ[\"SPARK_HOME\"] = \"/content/spark-3.1.1-bin-hadoop3.2\""
      ],
      "metadata": {
        "id": "anDMO9xkd-Hc"
      },
      "execution_count": 45,
      "outputs": []
    },
    {
      "cell_type": "code",
      "source": [
        "import findspark\n",
        "findspark.init()\n",
        "from pyspark.sql import SparkSession\n",
        "spark = SparkSession.builder.master(\"local\").appName(\"Spark\").getOrCreate()\n",
        "spark"
      ],
      "metadata": {
        "colab": {
          "base_uri": "https://localhost:8080/",
          "height": 219
        },
        "id": "YLCTfhMEd-Il",
        "outputId": "405e1c5e-dc27-4b70-df11-f3538286961f"
      },
      "execution_count": 46,
      "outputs": [
        {
          "output_type": "execute_result",
          "data": {
            "text/plain": [
              "<pyspark.sql.session.SparkSession at 0x7f3ff4b92290>"
            ],
            "text/html": [
              "\n",
              "            <div>\n",
              "                <p><b>SparkSession - in-memory</b></p>\n",
              "                \n",
              "        <div>\n",
              "            <p><b>SparkContext</b></p>\n",
              "\n",
              "            <p><a href=\"http://9340d90e7a56:4040\">Spark UI</a></p>\n",
              "\n",
              "            <dl>\n",
              "              <dt>Version</dt>\n",
              "                <dd><code>v3.1.1</code></dd>\n",
              "              <dt>Master</dt>\n",
              "                <dd><code>local</code></dd>\n",
              "              <dt>AppName</dt>\n",
              "                <dd><code>Spark</code></dd>\n",
              "            </dl>\n",
              "        </div>\n",
              "        \n",
              "            </div>\n",
              "        "
            ]
          },
          "metadata": {},
          "execution_count": 46
        }
      ]
    },
    {
      "cell_type": "code",
      "source": [
        "!wget https://raw.githubusercontent.com/Bugg-Bitter/BiG_data_IOT/main/Lab-2/dates.csv\n",
        "!wget https://raw.githubusercontent.com/Bugg-Bitter/BiG_data_IOT/main/Lab-2/list1.csv\n",
        "!wget https://raw.githubusercontent.com/Bugg-Bitter/BiG_data_IOT/main/Lab-2/list2.csv"
      ],
      "metadata": {
        "colab": {
          "base_uri": "https://localhost:8080/"
        },
        "id": "NLfujgdNeHLz",
        "outputId": "043eaa90-08a8-4faa-bd5e-2b16ca187c9d"
      },
      "execution_count": 47,
      "outputs": [
        {
          "output_type": "stream",
          "name": "stdout",
          "text": [
            "--2022-09-08 15:15:40--  https://raw.githubusercontent.com/Bugg-Bitter/BiG_data_IOT/main/Lab-2/dates.csv\n",
            "Resolving raw.githubusercontent.com (raw.githubusercontent.com)... 185.199.108.133, 185.199.109.133, 185.199.110.133, ...\n",
            "Connecting to raw.githubusercontent.com (raw.githubusercontent.com)|185.199.108.133|:443... connected.\n",
            "HTTP request sent, awaiting response... 200 OK\n",
            "Length: 11490789 (11M) [text/plain]\n",
            "Saving to: ‘dates.csv.4’\n",
            "\n",
            "dates.csv.4         100%[===================>]  10.96M  30.4MB/s    in 0.4s    \n",
            "\n",
            "2022-09-08 15:15:41 (30.4 MB/s) - ‘dates.csv.4’ saved [11490789/11490789]\n",
            "\n",
            "--2022-09-08 15:15:41--  https://raw.githubusercontent.com/Bugg-Bitter/BiG_data_IOT/main/Lab-2/list1.csv\n",
            "Resolving raw.githubusercontent.com (raw.githubusercontent.com)... 185.199.108.133, 185.199.109.133, 185.199.110.133, ...\n",
            "Connecting to raw.githubusercontent.com (raw.githubusercontent.com)|185.199.108.133|:443... connected.\n",
            "HTTP request sent, awaiting response... 200 OK\n",
            "Length: 10232 (10.0K) [text/plain]\n",
            "Saving to: ‘list1.csv.5’\n",
            "\n",
            "list1.csv.5         100%[===================>]   9.99K  --.-KB/s    in 0s      \n",
            "\n",
            "2022-09-08 15:15:41 (49.4 MB/s) - ‘list1.csv.5’ saved [10232/10232]\n",
            "\n",
            "--2022-09-08 15:15:42--  https://raw.githubusercontent.com/Bugg-Bitter/BiG_data_IOT/main/Lab-2/list2.csv\n",
            "Resolving raw.githubusercontent.com (raw.githubusercontent.com)... 185.199.111.133, 185.199.108.133, 185.199.109.133, ...\n",
            "Connecting to raw.githubusercontent.com (raw.githubusercontent.com)|185.199.111.133|:443... connected.\n",
            "HTTP request sent, awaiting response... 200 OK\n",
            "Length: 22535273 (21M) [text/plain]\n",
            "Saving to: ‘list2.csv.5’\n",
            "\n",
            "list2.csv.5         100%[===================>]  21.49M   130MB/s    in 0.2s    \n",
            "\n",
            "2022-09-08 15:15:43 (130 MB/s) - ‘list2.csv.5’ saved [22535273/22535273]\n",
            "\n"
          ]
        }
      ]
    },
    {
      "cell_type": "code",
      "source": [
        "d1 = spark.read.csv('dates.csv', header=True, sep=\",\", inferSchema=True)\n",
        "d2 = spark.read.csv('list1.csv', header=True, sep=\",\", inferSchema=True)\n",
        "d3 = spark.read.csv('list2.csv', header=True, sep=\",\", inferSchema=True)\n",
        "\n",
        "d1.show(6)\n",
        "d2.show(6)\n",
        "d3.show(6)"
      ],
      "metadata": {
        "colab": {
          "base_uri": "https://localhost:8080/"
        },
        "id": "KQ2hG32zedHE",
        "outputId": "a20b7f12-e0db-4150-9c12-4cffb8902f92"
      },
      "execution_count": 48,
      "outputs": [
        {
          "output_type": "stream",
          "name": "stdout",
          "text": [
            "+---------+-----+---------------------+-----------+------+-------------+-----------------+-------------------+----+-----+---+----+------+\n",
            "|User uuid|Likes|Days passed from post|Likes Score|  Type|Numer of Tags|Numer of Comments|        Date Posted|Year|Month|Day|Hour|Minute|\n",
            "+---------+-----+---------------------+-----------+------+-------------+-----------------+-------------------+----+-----+---+----+------+\n",
            "|        1|  506|                  657|       0.74| Image|            3|               11|2019-05-12 21:18:39|2019|    5| 12|  21|    18|\n",
            "|        1|  385|                  657|       0.57| Image|            0|                1|2019-05-12 14:25:55|2019|    5| 12|  14|    25|\n",
            "|        1|  373|                  666|       0.55|Images|            4|               15|2019-05-03 15:18:37|2019|    5|  3|  15|    18|\n",
            "|        1|  312|                  667|       0.46|Images|            4|                1|2019-05-02 16:40:38|2019|    5|  2|  16|    40|\n",
            "|        1|  513|                  674|       0.75|Images|            5|                0|2019-04-25 16:51:58|2019|    4| 25|  16|    51|\n",
            "|        1|  539|                  677|       0.79|Images|            3|                3|2019-04-22 20:03:00|2019|    4| 22|  20|     3|\n",
            "+---------+-----+---------------------+-----------+------+-------------+-----------------+-------------------+----+-----+---+----+------+\n",
            "only showing top 6 rows\n",
            "\n",
            "+---------------+--------------+-------------+-----+----------+-----+\n",
            "|Country or Area|Internet Users|   Population|Rank3|Percentage|Rank5|\n",
            "+---------------+--------------+-------------+-----+----------+-----+\n",
            "|          China|   765,367,947|1,409,517,397|    1|    54.30%|  116|\n",
            "|          India|   461,347,554|1,339,180,127|    2|    34.45%|  145|\n",
            "|  United States|   244,090,854|  324,459,463|    3|    75.23%|   68|\n",
            "|         Brazil|   141,206,801|  209,288,278|    4|    67.47%|   83|\n",
            "|          Japan|   115,845,120|  127,484,450|    5|    90.87%|   23|\n",
            "|         Russia|   109,446,612|  143,989,754|    6|    76.01%|   64|\n",
            "+---------------+--------------+-------------+-----+----------+-----+\n",
            "only showing top 6 rows\n",
            "\n",
            "+---+---------------+--------------+--------------+---------------+---------+------+---------+\n",
            "|SNo|ObservationDate|Province/State|Country/Region|    Last Update|Confirmed|Deaths|Recovered|\n",
            "+---+---------------+--------------+--------------+---------------+---------+------+---------+\n",
            "|  1|     01/22/2020|         Anhui|Mainland China|1/22/2020 17:00|      1.0|   0.0|      0.0|\n",
            "|  2|     01/22/2020|       Beijing|Mainland China|1/22/2020 17:00|     14.0|   0.0|      0.0|\n",
            "|  3|     01/22/2020|     Chongqing|Mainland China|1/22/2020 17:00|      6.0|   0.0|      0.0|\n",
            "|  4|     01/22/2020|        Fujian|Mainland China|1/22/2020 17:00|      1.0|   0.0|      0.0|\n",
            "|  5|     01/22/2020|         Gansu|Mainland China|1/22/2020 17:00|      0.0|   0.0|      0.0|\n",
            "|  6|     01/22/2020|     Guangdong|Mainland China|1/22/2020 17:00|     26.0|   0.0|      0.0|\n",
            "+---+---------------+--------------+--------------+---------------+---------+------+---------+\n",
            "only showing top 6 rows\n",
            "\n"
          ]
        }
      ]
    },
    {
      "cell_type": "markdown",
      "source": [
        "Getting Age Function"
      ],
      "metadata": {
        "id": "smKTG1bRgW-7"
      }
    },
    {
      "cell_type": "code",
      "source": [
        "d1=d1.withColumnRenamed('Date Posted','date_posted')"
      ],
      "metadata": {
        "id": "-l_DCPmclaKl"
      },
      "execution_count": 49,
      "outputs": []
    },
    {
      "cell_type": "code",
      "source": [
        "from pyspark.sql.functions import lit, to_date, current_date, datediff\n",
        "\n",
        "def get_age(date):\n",
        "  age = datediff(current_date(), to_date(date))\n",
        "  return age/365"
      ],
      "metadata": {
        "id": "TaPOfWSugXgl"
      },
      "execution_count": 50,
      "outputs": []
    },
    {
      "cell_type": "code",
      "source": [
        "d1.select(d1.date_posted, get_age(d1.date_posted).alias(\"new ages\")).show(10)"
      ],
      "metadata": {
        "colab": {
          "base_uri": "https://localhost:8080/"
        },
        "id": "qUG2b023gnlj",
        "outputId": "ff88be82-001e-4681-bd09-b93d0288c79e"
      },
      "execution_count": 51,
      "outputs": [
        {
          "output_type": "stream",
          "name": "stdout",
          "text": [
            "+-------------------+------------------+\n",
            "|        date_posted|          new ages|\n",
            "+-------------------+------------------+\n",
            "|2019-05-12 21:18:39| 3.328767123287671|\n",
            "|2019-05-12 14:25:55| 3.328767123287671|\n",
            "|2019-05-03 15:18:37|3.3534246575342466|\n",
            "|2019-05-02 16:40:38| 3.356164383561644|\n",
            "|2019-04-25 16:51:58|3.3753424657534246|\n",
            "|2019-04-22 20:03:00|3.3835616438356166|\n",
            "|2019-04-22 15:07:34|3.3835616438356166|\n",
            "|2019-04-18 14:44:36|3.3945205479452056|\n",
            "|2019-04-17 15:42:56|3.3972602739726026|\n",
            "|2019-04-11 15:00:05|3.4136986301369863|\n",
            "+-------------------+------------------+\n",
            "only showing top 10 rows\n",
            "\n"
          ]
        }
      ]
    },
    {
      "cell_type": "code",
      "source": [
        "print(\"The Right Joining\")\n",
        "d3.join(d2, d3.SNo == d2.Rank3, \"right\").select(d2[\"Rank3\"],d3[\"Country/Region\"],d2[\"Percentage\"]).show(10)\n",
        "\n",
        "print(\"The Left Joining\")\n",
        "d3.join(d2, d3.SNo == d2.Rank3, \"left\").select(d2[\"Rank5\"],d3[\"Country/Region\"],d2[\"Percentage\"]).show(10)\n",
        "\n",
        "print(\"The Right Outer Joining\")\n",
        "d3.join(d2, d3.SNo == d2.Rank3, \"right_outer\").select(d2[\"Rank5\"],d3[\"Province/State\"],d2[\"Percentage\"]).show(10)\n",
        "\n",
        "print(\"The Left Outer Joining\")\n",
        "d3.join(d2, d3.SNo == d2.Rank3, \"left_outer\").select(d2[\"Rank5\"],d3[\"Last Update\"],d2[\"Percentage\"]).show(10)\n",
        "\n",
        "print(\"The Full Joining\")\n",
        "d3.join(d2, d3.SNo == d2.Rank3, \"full\").select(d2[\"Population\"],d3[\"Last Update\"],d2[\"Percentage\"]).show(10)"
      ],
      "metadata": {
        "colab": {
          "base_uri": "https://localhost:8080/"
        },
        "id": "oShNgWnYmlD0",
        "outputId": "fd583d55-4d97-418c-c606-43ed9b1c93d6"
      },
      "execution_count": 52,
      "outputs": [
        {
          "output_type": "stream",
          "name": "stdout",
          "text": [
            "The Right Joining\n",
            "+-----+--------------+----------+\n",
            "|Rank3|Country/Region|Percentage|\n",
            "+-----+--------------+----------+\n",
            "|    1|Mainland China|    54.30%|\n",
            "|    2|Mainland China|    34.45%|\n",
            "|    3|Mainland China|    75.23%|\n",
            "|    4|Mainland China|    67.47%|\n",
            "|    5|Mainland China|    90.87%|\n",
            "|    6|Mainland China|    76.01%|\n",
            "|    7|Mainland China|    32.29%|\n",
            "|    8|Mainland China|    63.85%|\n",
            "|    9|Mainland China|    84.40%|\n",
            "|   10|Mainland China|    60.05%|\n",
            "+-----+--------------+----------+\n",
            "only showing top 10 rows\n",
            "\n",
            "The Left Joining\n",
            "+-----+--------------+----------+\n",
            "|Rank5|Country/Region|Percentage|\n",
            "+-----+--------------+----------+\n",
            "|  116|Mainland China|    54.30%|\n",
            "|  145|Mainland China|    34.45%|\n",
            "|   68|Mainland China|    75.23%|\n",
            "|   83|Mainland China|    67.47%|\n",
            "|   23|Mainland China|    90.87%|\n",
            "|   64|Mainland China|    76.01%|\n",
            "|  150|Mainland China|    32.29%|\n",
            "|   92|Mainland China|    63.85%|\n",
            "|   36|Mainland China|    84.40%|\n",
            "|  103|Mainland China|    60.05%|\n",
            "+-----+--------------+----------+\n",
            "only showing top 10 rows\n",
            "\n",
            "The Right Outer Joining\n",
            "+-----+--------------+----------+\n",
            "|Rank5|Province/State|Percentage|\n",
            "+-----+--------------+----------+\n",
            "|  116|         Anhui|    54.30%|\n",
            "|  145|       Beijing|    34.45%|\n",
            "|   68|     Chongqing|    75.23%|\n",
            "|   83|        Fujian|    67.47%|\n",
            "|   23|         Gansu|    90.87%|\n",
            "|   64|     Guangdong|    76.01%|\n",
            "|  150|       Guangxi|    32.29%|\n",
            "|   92|       Guizhou|    63.85%|\n",
            "|   36|        Hainan|    84.40%|\n",
            "|  103|         Hebei|    60.05%|\n",
            "+-----+--------------+----------+\n",
            "only showing top 10 rows\n",
            "\n",
            "The Left Outer Joining\n",
            "+-----+---------------+----------+\n",
            "|Rank5|    Last Update|Percentage|\n",
            "+-----+---------------+----------+\n",
            "|  116|1/22/2020 17:00|    54.30%|\n",
            "|  145|1/22/2020 17:00|    34.45%|\n",
            "|   68|1/22/2020 17:00|    75.23%|\n",
            "|   83|1/22/2020 17:00|    67.47%|\n",
            "|   23|1/22/2020 17:00|    90.87%|\n",
            "|   64|1/22/2020 17:00|    76.01%|\n",
            "|  150|1/22/2020 17:00|    32.29%|\n",
            "|   92|1/22/2020 17:00|    63.85%|\n",
            "|   36|1/22/2020 17:00|    84.40%|\n",
            "|  103|1/22/2020 17:00|    60.05%|\n",
            "+-----+---------------+----------+\n",
            "only showing top 10 rows\n",
            "\n",
            "The Full Joining\n",
            "+----------+-------------------+----------+\n",
            "|Population|        Last Update|Percentage|\n",
            "+----------+-------------------+----------+\n",
            "|10,864,245|      1/25/20 17:00|     5.59%|\n",
            "|      null|    1/31/2020 23:59|      null|\n",
            "|      null|    1/31/2020 23:59|      null|\n",
            "|      null|    1/31/2020 23:59|      null|\n",
            "|      null|2020-02-03T21:43:02|      null|\n",
            "|      null|2020-02-09T23:33:02|      null|\n",
            "|      null|2020-02-11T12:53:02|      null|\n",
            "|      null|2020-02-12T19:53:02|      null|\n",
            "|      null|2020-02-13T14:13:06|      null|\n",
            "|      null|2020-02-04T00:13:06|      null|\n",
            "+----------+-------------------+----------+\n",
            "only showing top 10 rows\n",
            "\n"
          ]
        }
      ]
    }
  ]
}